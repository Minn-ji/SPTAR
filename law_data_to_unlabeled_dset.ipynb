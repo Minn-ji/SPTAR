{
 "cells": [
  {
   "cell_type": "code",
   "execution_count": 3,
   "id": "769cb7b2",
   "metadata": {},
   "outputs": [],
   "source": [
    "import pandas as pd"
   ]
  },
  {
   "cell_type": "code",
   "execution_count": 31,
   "id": "9506bc16",
   "metadata": {},
   "outputs": [],
   "source": [
    "law = pd.read_csv('law_dataset/new_law.csv')\n",
    "law = law.drop_duplicates()"
   ]
  },
  {
   "cell_type": "code",
   "execution_count": 9,
   "id": "fed14048",
   "metadata": {},
   "outputs": [
    {
     "name": "stdout",
     "output_type": "stream",
     "text": [
      "전세사기피해자 지원 및 주거안정에 관한 특별법 19조 제19조(지방세의 체납으로 인하여 압류된 주택의 매각 유예ㆍ중지) ① 전세사기피해자는 전세사기피해주택이 「지방세징수법」 제33조에 따라 압류되었거나 같은 법 제71조에 따른 매각절차가 진행 중인 경우 매각결정기일 전까지 지방자치단체의 장에게 매각절차의 유예 또는 중지(이하 이 조에서 \"매각유예등\"이라 한다)를 신청할 수 있다. 제19조(지방세의 체납으로 인하여 압류된 주택의 매각 유예ㆍ중지) ② 국토교통부장관은 다음 각 호의 어느 하나에 해당하는 경우 지방자치단체의 장에게 매각유예등의 협조를 요청할 수 있다. <개정 2024.9.10> 1. 위원회가 제6조제2항제2호에 관한 사항을 심의ㆍ의결한 경우 제19조(지방세의 체납으로 인하여 압류된 주택의 매각 유예ㆍ중지) ② 국토교통부장관은 다음 각 호의 어느 하나에 해당하는 경우 지방자치단체의 장에게 매각유예등의 협조를 요청할 수 있다. <개정 2024.9.10> 2. 매각결정기일이 위원회 개최일 이전에 있는 등 위원회가 제1호에 따른 의결을 할 수 없는 긴급한 경우 제19조(지방세의 체납으로 인하여 압류된 주택의 매각 유예ㆍ중지) ③ 지방자치단체의 장은 「지방세징수법」 제83조제1항 및 같은 법 제105조제1항에도 불구하고 제1항에 따른 신청이나 제2항에 따른 요청이 있고, 전세사기피해자(제12조에 따라 전세사기피해자등 결정을 신청한 자를 포함한다)가 임차보증금을 반환받지 못하여 생계나 주거안정에 지장을 줄 것이 우려되는 경우에는 채권자 및 채무자의 생활형편 등을 고려하여 매각유예등을 할 수 있다. 제19조(지방세의 체납으로 인하여 압류된 주택의 매각 유예ㆍ중지) ④ 제3항에 따른 매각유예등의 기간은 그 유예 또는 중지한 날의 다음 날부터 1년 이내로 한다. 다만, 지방자치단체의 장은 제3항에 따른 매각유예등의 사유가 해소되지 아니하였다고 인정되는 경우 직권으로 또는 전세사기피해자의 신청을 받아 그 기간을 연장할 수 있다. 제19조(지방세의 체납으로 인하여 압류된 주택의 매각 유예ㆍ중지) ⑤ 국토교통부장관이 제2항제2호에 따라 매각유예등의 협조를 요청한 때에는 다음 위원회 또는 분과위원회에 보고하여 심의ㆍ의결을 받아야 하며, 부결된 경우에는 지방자치단체의 장에게 그 사실을 통보하여야 한다. <신설 2024.9.10>\n"
     ]
    }
   ],
   "source": [
    "qd_data = pd.read_csv('law_dataset/dataset.csv')\n",
    "print(qd_data['법령_텍스트'][0])\n",
    "\n",
    "'''\n",
    "전세사기피해자 지원 및 주거안정에 관한 특별법 19조 제19조(지방세의 체납으로 인하여 압류된 주택의 매각 유예ㆍ중지) \n",
    "① 전세사기피해자는 전세사기피해주택이 「지방세징수법」 제33조에 따라 압류되었거나 같은 법 제71조에 따른 매각절차가 진행 중인 경우\n",
    " 매각결정기일 전까지 지방자치단체의 장에게 매각절차의 유예 또는 중지(이하 이 조에서 \"매각유예등\"이라 한다)를 신청할 수 있다. \n",
    " 제19조(지방세의 체납으로 인하여 압류된 주택의 매각 유예ㆍ중지) ② 국토교통부장관은 다음 각 호의 어느 하나에 해당하는 경우 \n",
    " 지방자치단체의 장에게 매각유예등의 협조를 요청할 수 있다. <개정 2024.9.10> 1. 위원회가 제6조제2항제2호에 관한 사항을 \n",
    " 심의ㆍ의결한 경우 제19조(지방세의 체납으로 인하여 압류된 주택의 매각 유예ㆍ중지) ② 국토교통부장관은 다음 \n",
    " 각 호의 어느 하나에 해당하는 경우 지방자치단체의 장에게 매각유예등의 협조를 요청할 수 있다. <개정 2024.9.10> 2. \n",
    " 매각결정기일이 위원회 개최일 이전에 있는 등 위원회가 제1호에 따른 의결을 할 수 없는 긴급한 경우 제19조(지방세의 체납으로 인하여 압류된 주택의 매각 유예ㆍ중지) \n",
    " ③ 지방자치단체의 장은 「지방세징수법」 제83조제1항 및 같은 법 제105조제1항에도 불구하고 제1항에 따른 신청이나 제2항에 따른 요청이 있고, \n",
    " 전세사기피해자(제12조에 따라 전세사기피해자등 결정을 신청한 자를 포함한다)가 임차보증금을 반환받지 못하여 생계나 주거안정에 지장을 줄 것이 우려되는 경우에는 \n",
    " 채권자 및 채무자의 생활형편 등을 고려하여 매각유예등을 할 수 있다. 제19조(지방세의 체납으로 인하여 압류된 주택의 매각 유예ㆍ중지) \n",
    " ④ 제3항에 따른 매각유예등의 기간은 그 유예 또는 중지한 날의 다음 날부터 1년 이내로 한다. \n",
    " 다만, 지방자치단체의 장은 제3항에 따른 매각유예등의 사유가 해소되지 아니하였다고 인정되는 경우 직권으로 또는 전세사기피해자의 신청을 받아 그 기간을 연장할 수 있다. \n",
    " 제19조(지방세의 체납으로 인하여 압류된 주택의 매각 유예ㆍ중지) ⑤ 국토교통부장관이 제2항제2호에 따라 매각유예등의 협조를 요청한 때에는 \n",
    " 다음 위원회 또는 분과위원회에 보고하여 심의ㆍ의결을 받아야 하며, 부결된 경우에는 지방자치단체의 장에게 그 사실을 통보하여야 한다. <신설 2024.9.10>'''"
   ]
  },
  {
   "cell_type": "code",
   "execution_count": 41,
   "id": "0ae4a161",
   "metadata": {},
   "outputs": [],
   "source": [
    "import re\n",
    "\n",
    "def extract_article_number(text):\n",
    "    match = re.search(r'(\\d+조)', text)\n",
    "    return match.group(1) if match else None\n",
    "\n",
    "law['조항'] = law['조문 번호'].apply(extract_article_number)"
   ]
  },
  {
   "cell_type": "code",
   "execution_count": 51,
   "id": "fa4ca0a5",
   "metadata": {},
   "outputs": [
    {
     "data": {
      "text/html": [
       "<div>\n",
       "<style scoped>\n",
       "    .dataframe tbody tr th:only-of-type {\n",
       "        vertical-align: middle;\n",
       "    }\n",
       "\n",
       "    .dataframe tbody tr th {\n",
       "        vertical-align: top;\n",
       "    }\n",
       "\n",
       "    .dataframe thead th {\n",
       "        text-align: right;\n",
       "    }\n",
       "</style>\n",
       "<table border=\"1\" class=\"dataframe\">\n",
       "  <thead>\n",
       "    <tr style=\"text-align: right;\">\n",
       "      <th></th>\n",
       "      <th>키워드</th>\n",
       "      <th>법령명</th>\n",
       "      <th>조문 번호</th>\n",
       "      <th>조문 내용</th>\n",
       "      <th>조항</th>\n",
       "    </tr>\n",
       "  </thead>\n",
       "  <tbody>\n",
       "    <tr>\n",
       "      <th>0</th>\n",
       "      <td>근로</td>\n",
       "      <td>가사근로자의 고용개선 등에 관한 법률</td>\n",
       "      <td>6조 ①항</td>\n",
       "      <td>제6조(다른 법률과의 관계)\\n① 이 법의 적용을 받는 가사근로자는 「근로기준법」,...</td>\n",
       "      <td>6조</td>\n",
       "    </tr>\n",
       "    <tr>\n",
       "      <th>1</th>\n",
       "      <td>근로</td>\n",
       "      <td>가사근로자의 고용개선 등에 관한 법률</td>\n",
       "      <td>6조 ②항</td>\n",
       "      <td>제6조(다른 법률과의 관계)\\n② 가사근로자의 근로 관계에 관하여는 「근로기준법」 ...</td>\n",
       "      <td>6조</td>\n",
       "    </tr>\n",
       "    <tr>\n",
       "      <th>2</th>\n",
       "      <td>근로</td>\n",
       "      <td>가사근로자의 고용개선 등에 관한 법률</td>\n",
       "      <td>16조 ①항</td>\n",
       "      <td>제16조(유급휴일 및 연차 유급휴가)\\n① 가사서비스 제공기관의 사용자는 가사근로자...</td>\n",
       "      <td>16조</td>\n",
       "    </tr>\n",
       "    <tr>\n",
       "      <th>3</th>\n",
       "      <td>근로</td>\n",
       "      <td>가사근로자의 고용개선 등에 관한 법률</td>\n",
       "      <td>16조 ②항</td>\n",
       "      <td>제16조(유급휴일 및 연차 유급휴가)\\n② 제1항에 따른 유급휴일 및 연차 유급휴가...</td>\n",
       "      <td>16조</td>\n",
       "    </tr>\n",
       "    <tr>\n",
       "      <th>4</th>\n",
       "      <td>근로</td>\n",
       "      <td>가사근로자의 고용개선 등에 관한 법률</td>\n",
       "      <td>16조 ③항</td>\n",
       "      <td>제16조(유급휴일 및 연차 유급휴가)\\n③ 제1항에 따른 연차 유급휴가는 가사근로자...</td>\n",
       "      <td>16조</td>\n",
       "    </tr>\n",
       "    <tr>\n",
       "      <th>...</th>\n",
       "      <td>...</td>\n",
       "      <td>...</td>\n",
       "      <td>...</td>\n",
       "      <td>...</td>\n",
       "      <td>...</td>\n",
       "    </tr>\n",
       "    <tr>\n",
       "      <th>14590</th>\n",
       "      <td>임대</td>\n",
       "      <td>주택임대차보호법</td>\n",
       "      <td>9조 ④항</td>\n",
       "      <td>제9조(주택 임차권의 승계)\\n④ 제1항과 제2항의 경우에 임대차 관계에서 생긴 채...</td>\n",
       "      <td>9조</td>\n",
       "    </tr>\n",
       "    <tr>\n",
       "      <th>14591</th>\n",
       "      <td>임대</td>\n",
       "      <td>주택임대차보호법</td>\n",
       "      <td>19조 ①항</td>\n",
       "      <td>제19조(조정위원의 신분보장)\\n① 조정위원은 자신의 직무를 독립적으로 수행하고 주...</td>\n",
       "      <td>19조</td>\n",
       "    </tr>\n",
       "    <tr>\n",
       "      <th>14592</th>\n",
       "      <td>임대</td>\n",
       "      <td>주택임대차보호법</td>\n",
       "      <td>19조 ②항 1호</td>\n",
       "      <td>제19조(조정위원의 신분보장)\\n② 조정위원은 다음 각 호의 어느 하나에 해당하는 ...</td>\n",
       "      <td>19조</td>\n",
       "    </tr>\n",
       "    <tr>\n",
       "      <th>14593</th>\n",
       "      <td>임대</td>\n",
       "      <td>주택임대차보호법</td>\n",
       "      <td>19조 ②항 2호</td>\n",
       "      <td>제19조(조정위원의 신분보장)\\n② 조정위원은 다음 각 호의 어느 하나에 해당하는 ...</td>\n",
       "      <td>19조</td>\n",
       "    </tr>\n",
       "    <tr>\n",
       "      <th>14594</th>\n",
       "      <td>임대</td>\n",
       "      <td>주택임대차보호법</td>\n",
       "      <td>29조</td>\n",
       "      <td>제29조(다른 법률의 준용) 조정위원회의 운영 및 조정절차에 관하여 이 법에서 규정...</td>\n",
       "      <td>29조</td>\n",
       "    </tr>\n",
       "  </tbody>\n",
       "</table>\n",
       "<p>8626 rows × 5 columns</p>\n",
       "</div>"
      ],
      "text/plain": [
       "      키워드                   법령명      조문 번호  \\\n",
       "0      근로  가사근로자의 고용개선 등에 관한 법률      6조 ①항   \n",
       "1      근로  가사근로자의 고용개선 등에 관한 법률      6조 ②항   \n",
       "2      근로  가사근로자의 고용개선 등에 관한 법률     16조 ①항   \n",
       "3      근로  가사근로자의 고용개선 등에 관한 법률     16조 ②항   \n",
       "4      근로  가사근로자의 고용개선 등에 관한 법률     16조 ③항   \n",
       "...    ..                   ...        ...   \n",
       "14590  임대              주택임대차보호법      9조 ④항   \n",
       "14591  임대              주택임대차보호법     19조 ①항   \n",
       "14592  임대              주택임대차보호법  19조 ②항 1호   \n",
       "14593  임대              주택임대차보호법  19조 ②항 2호   \n",
       "14594  임대              주택임대차보호법        29조   \n",
       "\n",
       "                                                   조문 내용   조항  \n",
       "0      제6조(다른 법률과의 관계)\\n① 이 법의 적용을 받는 가사근로자는 「근로기준법」,...   6조  \n",
       "1      제6조(다른 법률과의 관계)\\n② 가사근로자의 근로 관계에 관하여는 「근로기준법」 ...   6조  \n",
       "2      제16조(유급휴일 및 연차 유급휴가)\\n① 가사서비스 제공기관의 사용자는 가사근로자...  16조  \n",
       "3      제16조(유급휴일 및 연차 유급휴가)\\n② 제1항에 따른 유급휴일 및 연차 유급휴가...  16조  \n",
       "4      제16조(유급휴일 및 연차 유급휴가)\\n③ 제1항에 따른 연차 유급휴가는 가사근로자...  16조  \n",
       "...                                                  ...  ...  \n",
       "14590  제9조(주택 임차권의 승계)\\n④ 제1항과 제2항의 경우에 임대차 관계에서 생긴 채...   9조  \n",
       "14591  제19조(조정위원의 신분보장)\\n① 조정위원은 자신의 직무를 독립적으로 수행하고 주...  19조  \n",
       "14592  제19조(조정위원의 신분보장)\\n② 조정위원은 다음 각 호의 어느 하나에 해당하는 ...  19조  \n",
       "14593  제19조(조정위원의 신분보장)\\n② 조정위원은 다음 각 호의 어느 하나에 해당하는 ...  19조  \n",
       "14594  제29조(다른 법률의 준용) 조정위원회의 운영 및 조정절차에 관하여 이 법에서 규정...  29조  \n",
       "\n",
       "[8626 rows x 5 columns]"
      ]
     },
     "execution_count": 51,
     "metadata": {},
     "output_type": "execute_result"
    }
   ],
   "source": [
    "law"
   ]
  },
  {
   "cell_type": "code",
   "execution_count": null,
   "id": "f853abec",
   "metadata": {},
   "outputs": [],
   "source": [
    "# 2613 부터 리인덱스!!!\n",
    "law_by_law_hang = law.groupby(['법령명','조항'])[['조문 내용']].agg(list).reset_index()"
   ]
  },
  {
   "cell_type": "code",
   "execution_count": null,
   "id": "3a362a34",
   "metadata": {},
   "outputs": [],
   "source": []
  },
  {
   "cell_type": "code",
   "execution_count": 62,
   "id": "d55ce082",
   "metadata": {},
   "outputs": [],
   "source": [
    "law_by_law_hang['조문내용_str'] = law_by_law_hang['조문 내용'].apply(lambda x: ' '.join(x))"
   ]
  },
  {
   "cell_type": "code",
   "execution_count": 75,
   "id": "93dfe837",
   "metadata": {},
   "outputs": [],
   "source": [
    "law_by_law_hang['final'] = law_by_law_hang['법령명']  +' ' + law_by_law_hang['조항'] + ' ' + law_by_law_hang['조문내용_str']"
   ]
  },
  {
   "cell_type": "code",
   "execution_count": null,
   "id": "4349de43",
   "metadata": {},
   "outputs": [],
   "source": [
    "import re\n",
    "\n",
    "# <>로 감싸진 문자열 제거 함수\n",
    "def remove_angle_bracket_tags(text):\n",
    "    return re.sub(r'<[^>]*>', '', text)\n",
    "\n",
    "# 'final' 컬럼에 적용\n",
    "law_by_law_hang['final'] = law_by_law_hang['final'].apply(remove_angle_bracket_tags)\n",
    "law_by_law_hang['final'] = law_by_law_hang['final'].str.replace('\\n', '')"
   ]
  },
  {
   "cell_type": "code",
   "execution_count": null,
   "id": "3c181355",
   "metadata": {},
   "outputs": [],
   "source": [
    "law_by_law_hang['_id'] = range(2613,len(law_by_law_hang)+2613)"
   ]
  },
  {
   "cell_type": "code",
   "execution_count": 91,
   "id": "b927531b",
   "metadata": {},
   "outputs": [],
   "source": [
    "import json\n",
    "records = []\n",
    "for i in range(law_by_law_hang.shape[0]):\n",
    "    data = {\"_id\": str(law_by_law_hang['_id'][i]), \"title\":\"\", \"text\":law_by_law_hang['final'][i], \"metadata\": {}}\n",
    "    records.append(data)\n",
    "\n",
    "# SPTAR/zhiyuan/datasets/raw/beir/msmarco/corpus_filtered.jsonl\n",
    "# jsonl 파일로 저장 (한 줄에 하나의 dict)\n",
    "with open('corpus_filtered.jsonl', 'w', encoding='utf-8') as f:\n",
    "    for record in records:\n",
    "        f.write(json.dumps(record, ensure_ascii=False) + '\\n')\n"
   ]
  },
  {
   "cell_type": "code",
   "execution_count": 96,
   "id": "45791a7b",
   "metadata": {},
   "outputs": [],
   "source": [
    "df = pd.DataFrame(records)\n",
    "df.to_csv('corpus_filtered.csv', index=False)\n",
    "\n",
    "df['_id'].to_csv('corpus_filtered_id.csv', index=False)\n",
    "#df['metadata'] = df['metadata'].apply(json.dumps)  # dict → string\n",
    "#df.columns = ['_id','title','text','metadata']"
   ]
  }
 ],
 "metadata": {
  "kernelspec": {
   "display_name": ".venv",
   "language": "python",
   "name": "python3"
  },
  "language_info": {
   "codemirror_mode": {
    "name": "ipython",
    "version": 3
   },
   "file_extension": ".py",
   "mimetype": "text/x-python",
   "name": "python",
   "nbconvert_exporter": "python",
   "pygments_lexer": "ipython3",
   "version": "3.12.6"
  }
 },
 "nbformat": 4,
 "nbformat_minor": 5
}
